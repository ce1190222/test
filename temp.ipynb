{
  "cells": [
    {
      "cell_type": "code",
      "id": "wChfqx71ZQdND6vSE5T6tns3",
      "metadata": {
        "tags": [],
        "id": "wChfqx71ZQdND6vSE5T6tns3",
        "colab": {
          "base_uri": "https://localhost:8080/"
        },
        "executionInfo": {
          "status": "ok",
          "timestamp": 1725601592219,
          "user_tz": -330,
          "elapsed": 1292,
          "user": {
            "displayName": "",
            "userId": ""
          }
        },
        "outputId": "0b7cca71-8759-4066-e948-ba50a92beae8"
      },
      "source": [
        "!curl -X POST \\\n",
        "     -H \"Authorization: Bearer $(gcloud auth print-access-token)\" \\\n",
        "     -H \"Content-Type: application/json; charset=utf-8\" \\\n",
        "     -d @/content/request.json \\\n",
        "     \"https://us-documentai.googleapis.com/v1/projects/solar-theory-417319/locations/us/processors/4d56dde277fee91f/processorVersions/pretrained-ocr-v2.1-2024-08-07:batchProcess\""
      ],
      "execution_count": 2,
      "outputs": [
        {
          "output_type": "stream",
          "name": "stdout",
          "text": [
            "{\n",
            "  \"name\": \"projects/667265768239/locations/us/operations/1472501797191591677\",\n",
            "  \"metadata\": {\n",
            "    \"@type\": \"type.googleapis.com/google.cloud.documentai.v1.BatchProcessMetadata\",\n",
            "    \"state\": \"RUNNING\",\n",
            "    \"createTime\": \"2024-09-06T05:46:32.465277Z\",\n",
            "    \"updateTime\": \"2024-09-06T05:46:32.465277Z\"\n",
            "  }\n",
            "}\n"
          ]
        }
      ]
    },
    {
      "cell_type": "code",
      "source": [
        "!curl -X GET \\\n",
        "     -H \"Authorization: Bearer $(gcloud auth print-access-token)\" \\\n",
        "     \"https://us-documentai.googleapis.com/v1/projects/solar-theory-417319/locations/us/operations/1472501797191591677\""
      ],
      "metadata": {
        "colab": {
          "base_uri": "https://localhost:8080/"
        },
        "id": "lK3iDm813aSx",
        "executionInfo": {
          "status": "ok",
          "timestamp": 1725601748589,
          "user_tz": -330,
          "elapsed": 704,
          "user": {
            "displayName": "",
            "userId": ""
          }
        },
        "outputId": "a75e73a7-01b8-4df5-90a4-aa23e106ebae"
      },
      "id": "lK3iDm813aSx",
      "execution_count": 3,
      "outputs": [
        {
          "output_type": "stream",
          "name": "stdout",
          "text": [
            "{\n",
            "  \"name\": \"projects/667265768239/locations/us/operations/1472501797191591677\",\n",
            "  \"metadata\": {\n",
            "    \"@type\": \"type.googleapis.com/google.cloud.documentai.v1.BatchProcessMetadata\",\n",
            "    \"state\": \"SUCCEEDED\",\n",
            "    \"createTime\": \"2024-09-06T05:46:32.465277Z\",\n",
            "    \"updateTime\": \"2024-09-06T05:47:19.817373Z\",\n",
            "    \"individualProcessStatuses\": [\n",
            "      {\n",
            "        \"inputGcsSource\": \"gs://test_bucket_pro/input/2023-annual-report-1-15 (1).pdf\",\n",
            "        \"status\": {},\n",
            "        \"outputGcsDestination\": \"gs://test_bucket_pro/output/1472501797191591677/0\",\n",
            "        \"humanReviewStatus\": {\n",
            "          \"state\": \"SKIPPED\"\n",
            "        }\n",
            "      }\n",
            "    ]\n",
            "  },\n",
            "  \"done\": true,\n",
            "  \"response\": {\n",
            "    \"@type\": \"type.googleapis.com/google.cloud.documentai.v1.BatchProcessResponse\"\n",
            "  }\n",
            "}\n"
          ]
        }
      ]
    },
    {
      "cell_type": "code",
      "source": [],
      "metadata": {
        "id": "RD-M3ZQc4Q2P"
      },
      "id": "RD-M3ZQc4Q2P",
      "execution_count": null,
      "outputs": []
    }
  ],
  "metadata": {
    "kernelspec": {
      "display_name": "Python 3",
      "language": "python",
      "name": "python3"
    },
    "language_info": {
      "codemirror_mode": {
        "name": "ipython",
        "version": 3
      },
      "file_extension": ".py",
      "mimetype": "text/x-python",
      "name": "python",
      "nbconvert_exporter": "python",
      "pygments_lexer": "ipython3",
      "version": "3.10.10"
    },
    "colab": {
      "provenance": [],
      "name": "traineeemipl (Sep 6, 2024, 11:10:09 AM)"
    }
  },
  "nbformat": 4,
  "nbformat_minor": 5
}